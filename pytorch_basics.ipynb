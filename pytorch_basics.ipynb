{
  "nbformat": 4,
  "nbformat_minor": 0,
  "metadata": {
    "colab": {
      "provenance": [],
      "authorship_tag": "ABX9TyOqZeqVxoCDga4ANpf4EXYm",
      "include_colab_link": true
    },
    "kernelspec": {
      "name": "python3",
      "display_name": "Python 3"
    },
    "language_info": {
      "name": "python"
    }
  },
  "cells": [
    {
      "cell_type": "markdown",
      "metadata": {
        "id": "view-in-github",
        "colab_type": "text"
      },
      "source": [
        "<a href=\"https://colab.research.google.com/github/zeeshan-sardar/efficient_ml/blob/main/pytorch_basics.ipynb\" target=\"_parent\"><img src=\"https://colab.research.google.com/assets/colab-badge.svg\" alt=\"Open In Colab\"/></a>"
      ]
    },
    {
      "cell_type": "code",
      "execution_count": 2,
      "metadata": {
        "id": "vHaSb0QpI86I"
      },
      "outputs": [],
      "source": [
        "import torch\n",
        "from torch import nn\n",
        "from torch.utils.data import DataLoader\n",
        "from torchvision import datasets # torchvision contains vision related datasets, transformations and model architectures.\n",
        "#There are other types as well like TorchText, TorchAudio\n",
        "from torchvision.transforms import ToTensor"
      ]
    },
    {
      "cell_type": "markdown",
      "source": [
        "Torchvision Datasets object takes two arguments, one is the transforms and second target_transforms for images and labels respectively."
      ],
      "metadata": {
        "id": "Sxq0t0xQKU6i"
      }
    },
    {
      "cell_type": "code",
      "source": [
        "training_data = datasets.FashionMNIST(root=\"data\", train=True, download=True, transform=ToTensor())"
      ],
      "metadata": {
        "colab": {
          "base_uri": "https://localhost:8080/"
        },
        "id": "lZx3Xjb_Jt04",
        "outputId": "c8d90f20-d115-4c53-fb8f-624c9e6e759a"
      },
      "execution_count": 3,
      "outputs": [
        {
          "output_type": "stream",
          "name": "stdout",
          "text": [
            "Downloading http://fashion-mnist.s3-website.eu-central-1.amazonaws.com/train-images-idx3-ubyte.gz\n",
            "Downloading http://fashion-mnist.s3-website.eu-central-1.amazonaws.com/train-images-idx3-ubyte.gz to data/FashionMNIST/raw/train-images-idx3-ubyte.gz\n"
          ]
        },
        {
          "output_type": "stream",
          "name": "stderr",
          "text": [
            "100%|██████████| 26421880/26421880 [00:02<00:00, 12582532.46it/s]\n"
          ]
        },
        {
          "output_type": "stream",
          "name": "stdout",
          "text": [
            "Extracting data/FashionMNIST/raw/train-images-idx3-ubyte.gz to data/FashionMNIST/raw\n",
            "\n",
            "Downloading http://fashion-mnist.s3-website.eu-central-1.amazonaws.com/train-labels-idx1-ubyte.gz\n",
            "Downloading http://fashion-mnist.s3-website.eu-central-1.amazonaws.com/train-labels-idx1-ubyte.gz to data/FashionMNIST/raw/train-labels-idx1-ubyte.gz\n"
          ]
        },
        {
          "output_type": "stream",
          "name": "stderr",
          "text": [
            "100%|██████████| 29515/29515 [00:00<00:00, 229600.14it/s]\n"
          ]
        },
        {
          "output_type": "stream",
          "name": "stdout",
          "text": [
            "Extracting data/FashionMNIST/raw/train-labels-idx1-ubyte.gz to data/FashionMNIST/raw\n",
            "\n",
            "Downloading http://fashion-mnist.s3-website.eu-central-1.amazonaws.com/t10k-images-idx3-ubyte.gz\n",
            "Downloading http://fashion-mnist.s3-website.eu-central-1.amazonaws.com/t10k-images-idx3-ubyte.gz to data/FashionMNIST/raw/t10k-images-idx3-ubyte.gz\n"
          ]
        },
        {
          "output_type": "stream",
          "name": "stderr",
          "text": [
            "100%|██████████| 4422102/4422102 [00:01<00:00, 4265980.86it/s]\n"
          ]
        },
        {
          "output_type": "stream",
          "name": "stdout",
          "text": [
            "Extracting data/FashionMNIST/raw/t10k-images-idx3-ubyte.gz to data/FashionMNIST/raw\n",
            "\n",
            "Downloading http://fashion-mnist.s3-website.eu-central-1.amazonaws.com/t10k-labels-idx1-ubyte.gz\n",
            "Downloading http://fashion-mnist.s3-website.eu-central-1.amazonaws.com/t10k-labels-idx1-ubyte.gz to data/FashionMNIST/raw/t10k-labels-idx1-ubyte.gz\n"
          ]
        },
        {
          "output_type": "stream",
          "name": "stderr",
          "text": [
            "100%|██████████| 5148/5148 [00:00<00:00, 5827875.03it/s]"
          ]
        },
        {
          "output_type": "stream",
          "name": "stdout",
          "text": [
            "Extracting data/FashionMNIST/raw/t10k-labels-idx1-ubyte.gz to data/FashionMNIST/raw\n",
            "\n"
          ]
        },
        {
          "output_type": "stream",
          "name": "stderr",
          "text": [
            "\n"
          ]
        }
      ]
    },
    {
      "cell_type": "code",
      "source": [
        "test_dataset = datasets.FashionMNIST(root=\"data\", train=False, download=True, transform=ToTensor())"
      ],
      "metadata": {
        "id": "G13FEhxpLC1t"
      },
      "execution_count": 6,
      "outputs": []
    },
    {
      "cell_type": "code",
      "source": [
        "train_dataloader = DataLoader(dataset=training_data, batch_size=64)\n",
        "test_dataloader = DataLoader(dataset=test_dataset, batch_size=64)"
      ],
      "metadata": {
        "id": "c8fV5uSqLbzY"
      },
      "execution_count": 7,
      "outputs": []
    },
    {
      "cell_type": "code",
      "source": [
        "for X, y in train_dataloader:\n",
        "  print(f\"Shape of X [N, C, H, W]: {X.shape}\")\n",
        "  print(f\"Shape of y: {y.shape}, {y.dtype}\")\n",
        "  break"
      ],
      "metadata": {
        "colab": {
          "base_uri": "https://localhost:8080/"
        },
        "id": "wlCNe4_IMI5q",
        "outputId": "a405a80d-d602-4770-bb31-09b15d184e75"
      },
      "execution_count": 9,
      "outputs": [
        {
          "output_type": "stream",
          "name": "stdout",
          "text": [
            "Shape of X [N, C, H, W]: torch.Size([64, 1, 28, 28])\n",
            "Shape of y: torch.Size([64]), torch.int64\n"
          ]
        }
      ]
    },
    {
      "cell_type": "markdown",
      "source": [
        "The Neural Network is defined by inhering the `nn.Module`. The network architecture is defined in `__init__` function and the datapassing through the network is defined in `forward` function."
      ],
      "metadata": {
        "id": "pjKPzXuMOhRS"
      }
    },
    {
      "cell_type": "code",
      "source": [
        "# Get cpu, gpu or mps device for training.\n",
        "device = (\n",
        "    \"cuda\"\n",
        "    if torch.cuda.is_available()\n",
        "    else \"mps\"\n",
        "    if torch.backends.mps.is_available()\n",
        "    else \"cpu\"\n",
        ")\n",
        "print(f\"Using {device} device\")\n",
        "\n",
        "class NeuralNetwork(nn.Module):\n",
        "  def __init__(self):\n",
        "    super().__init__()\n",
        "    self.flatten = nn.Flatten()\n",
        "    self.linear_relu_stack = nn.Sequential(\n",
        "        nn.Linear(28*28, 512),nn.ReLU(),\n",
        "        nn.Linear(512, 512), nn.ReLU(),\n",
        "        nn.Linear(512, 10))\n",
        "  def forward(self, x):\n",
        "    x = self.flatten(x)\n",
        "    logits = self.linear_relu_stack(x)\n",
        "    return logits\n",
        "\n",
        "model = NeuralNetwork().to(device)\n",
        "print(model)\n",
        "\n"
      ],
      "metadata": {
        "colab": {
          "base_uri": "https://localhost:8080/"
        },
        "id": "H_ReH3BbMjck",
        "outputId": "203ea39e-1cfc-44cb-ac5b-188a0106ed65"
      },
      "execution_count": 11,
      "outputs": [
        {
          "output_type": "stream",
          "name": "stdout",
          "text": [
            "Using cpu device\n",
            "NeuralNetwork(\n",
            "  (flatten): Flatten(start_dim=1, end_dim=-1)\n",
            "  (linear_relu_stack): Sequential(\n",
            "    (0): Linear(in_features=784, out_features=512, bias=True)\n",
            "    (1): ReLU()\n",
            "    (2): Linear(in_features=512, out_features=512, bias=True)\n",
            "    (3): ReLU()\n",
            "    (4): Linear(in_features=512, out_features=10, bias=True)\n",
            "  )\n",
            ")\n"
          ]
        }
      ]
    },
    {
      "cell_type": "markdown",
      "source": [],
      "metadata": {
        "id": "fJLpvSvGPZnQ"
      }
    },
    {
      "cell_type": "markdown",
      "source": [
        "For model training we need to have a loss function and optimizer.  \n",
        "During training loop, model makes the prediction, claculates the loss and backpropagrate it to correct it for the next iteration.\n",
        "\n",
        "Crossentropy loss is common for classification tasks."
      ],
      "metadata": {
        "id": "e77hVImjUhDL"
      }
    },
    {
      "cell_type": "code",
      "source": [
        "loss_fn = nn.CrossEntropyLoss()\n",
        "optimizer = torch.optim.SGD(params=model.parameters(), lr=1e-3)"
      ],
      "metadata": {
        "id": "1_oGLWMQUgga"
      },
      "execution_count": 13,
      "outputs": []
    },
    {
      "cell_type": "markdown",
      "source": [
        "loss.backward: it calculates the gradients of loos wrt each parameter of the model. The backpropagation happens using computational graph indicating which parameter is contributing how in the loss.\n",
        "\n",
        "optimizer.step: updates the parameters based on the gradients during backpropagation.\n",
        "\n",
        "Optimizer tells the update rule for model parameters, in this case it is stochastic gradient descent. The for updation is `param -= learning_rate * grad`.\n",
        "\n",
        "optimizer.zero_grad: resets the gradients after every batch to prevent gradient accumulation and increase stability.\n",
        "\n",
        "Putting it Together:\n",
        "\n",
        "Here's the overall flow of a training iteration:\n",
        "\n",
        "1. Calculate the loss for the current batch.\n",
        "2. Backpropagate to compute gradients.\n",
        "3. Update the model's parameters using the optimizer.\n",
        "4. Reset gradients for the next batch."
      ],
      "metadata": {
        "id": "Z2xQAUcTgNJ_"
      }
    },
    {
      "cell_type": "markdown",
      "source": [
        "**Model Parameters**\n",
        "Examples:\n",
        "In a linear layer: Weights represent connections between input and output neurons, and biases determine the activation thresholds.\n",
        "In a CNN: Filters capture spatial features in images, and biases regulate the activations of convolutional layers.\n",
        "In an LSTM: Weights govern the flow of information within the memory cell and gates.\n",
        "\n",
        "you can check which parts of your model are considered parameters using the model.parameters()"
      ],
      "metadata": {
        "id": "tFD1VgwBiIkF"
      }
    },
    {
      "cell_type": "code",
      "source": [
        "def train(dataloader, model, loss_fn, optimizer):\n",
        "  size = len(dataloader.dataset)\n",
        "  model.train()\n",
        "  for batch, (X, y) in enumerate(dataloader):\n",
        "    X, y = X.to(device), y.to(device)\n",
        "\n",
        "    pred = model(X)\n",
        "    loss = loss_fn(pred, y)\n",
        "\n",
        "    loss.backward()\n",
        "    optimizer.step()\n",
        "    optimizer.zero_grad()\n",
        "\n",
        "    if batch % 100 == 0:\n",
        "      loss, current = loss.item(), (batch + 1) * len(X)\n",
        "      print(f\"loss: {loss:>7f}  [{current:>5d}/{size:>5d}]\")\n"
      ],
      "metadata": {
        "id": "L6VBNguhVqD1"
      },
      "execution_count": 21,
      "outputs": []
    },
    {
      "cell_type": "code",
      "source": [
        "def test(dataloader, model, loss_fn):\n",
        "    size = len(dataloader.dataset)\n",
        "    num_batches = len(dataloader)\n",
        "    model.eval()\n",
        "    test_loss, correct = 0, 0\n",
        "    with torch.no_grad():\n",
        "        for X, y in dataloader:\n",
        "            X, y = X.to(device), y.to(device)\n",
        "            pred = model(X)\n",
        "            test_loss += loss_fn(pred, y).item()\n",
        "            correct += (pred.argmax(1) == y).type(torch.float).sum().item()\n",
        "    test_loss /= num_batches\n",
        "    correct /= size\n",
        "    print(f\"Test Error: \\n Accuracy: {(100*correct):>0.1f}%, Avg loss: {test_loss:>8f} \\n\")"
      ],
      "metadata": {
        "id": "QivCSa6pXGqm"
      },
      "execution_count": 16,
      "outputs": []
    },
    {
      "cell_type": "code",
      "source": [
        "epochs = 5\n",
        "for t in range(epochs):\n",
        "    print(f\"Epoch {t+1}\\n-------------------------------\")\n",
        "    train(train_dataloader, model, loss_fn, optimizer)\n",
        "    test(test_dataloader, model, loss_fn)\n",
        "print(\"Done!\")"
      ],
      "metadata": {
        "id": "BlbUtd4ZZTfS",
        "outputId": "ce4dfb58-e9ef-42c8-c2bc-ca6e715b4249",
        "colab": {
          "base_uri": "https://localhost:8080/"
        }
      },
      "execution_count": 19,
      "outputs": [
        {
          "output_type": "stream",
          "name": "stdout",
          "text": [
            "Epoch 1\n",
            "-------------------------------\n",
            "loss: 2.302810  [   64/60000]\n",
            "loss: 2.298926  [ 6464/60000]\n",
            "loss: 2.278595  [12864/60000]\n",
            "loss: 2.271198  [19264/60000]\n",
            "loss: 2.266478  [25664/60000]\n",
            "loss: 2.240637  [32064/60000]\n",
            "loss: 2.238707  [38464/60000]\n",
            "loss: 2.217944  [44864/60000]\n",
            "loss: 2.197321  [51264/60000]\n",
            "loss: 2.173370  [57664/60000]\n",
            "Test Error: \n",
            " Accuracy: 54.6%, Avg loss: 2.173082 \n",
            "\n",
            "Epoch 2\n",
            "-------------------------------\n",
            "loss: 2.177229  [   64/60000]\n",
            "loss: 2.178077  [ 6464/60000]\n",
            "loss: 2.127108  [12864/60000]\n",
            "loss: 2.137861  [19264/60000]\n",
            "loss: 2.096600  [25664/60000]\n",
            "loss: 2.040423  [32064/60000]\n",
            "loss: 2.061537  [38464/60000]\n",
            "loss: 2.000973  [44864/60000]\n",
            "loss: 1.987123  [51264/60000]\n",
            "loss: 1.914861  [57664/60000]\n",
            "Test Error: \n",
            " Accuracy: 61.8%, Avg loss: 1.927784 \n",
            "\n",
            "Epoch 3\n",
            "-------------------------------\n",
            "loss: 1.955326  [   64/60000]\n",
            "loss: 1.936322  [ 6464/60000]\n",
            "loss: 1.830831  [12864/60000]\n",
            "loss: 1.860294  [19264/60000]\n",
            "loss: 1.753417  [25664/60000]\n",
            "loss: 1.698043  [32064/60000]\n",
            "loss: 1.715196  [38464/60000]\n",
            "loss: 1.628510  [44864/60000]\n",
            "loss: 1.634241  [51264/60000]\n",
            "loss: 1.521017  [57664/60000]\n",
            "Test Error: \n",
            " Accuracy: 61.9%, Avg loss: 1.553971 \n",
            "\n",
            "Epoch 4\n",
            "-------------------------------\n",
            "loss: 1.616903  [   64/60000]\n",
            "loss: 1.587500  [ 6464/60000]\n",
            "loss: 1.443480  [12864/60000]\n",
            "loss: 1.505755  [19264/60000]\n",
            "loss: 1.382395  [25664/60000]\n",
            "loss: 1.371155  [32064/60000]\n",
            "loss: 1.386058  [38464/60000]\n",
            "loss: 1.318123  [44864/60000]\n",
            "loss: 1.340304  [51264/60000]\n",
            "loss: 1.233146  [57664/60000]\n",
            "Test Error: \n",
            " Accuracy: 63.4%, Avg loss: 1.269534 \n",
            "\n",
            "Epoch 5\n",
            "-------------------------------\n",
            "loss: 1.346039  [   64/60000]\n",
            "loss: 1.333125  [ 6464/60000]\n",
            "loss: 1.169640  [12864/60000]\n",
            "loss: 1.268357  [19264/60000]\n",
            "loss: 1.138706  [25664/60000]\n",
            "loss: 1.161074  [32064/60000]\n",
            "loss: 1.184825  [38464/60000]\n",
            "loss: 1.128664  [44864/60000]\n",
            "loss: 1.154200  [51264/60000]\n",
            "loss: 1.068737  [57664/60000]\n",
            "Test Error: \n",
            " Accuracy: 64.8%, Avg loss: 1.095613 \n",
            "\n",
            "Done!\n"
          ]
        }
      ]
    },
    {
      "cell_type": "code",
      "source": [],
      "metadata": {
        "id": "wAnpxNziZVys"
      },
      "execution_count": null,
      "outputs": []
    }
  ]
}